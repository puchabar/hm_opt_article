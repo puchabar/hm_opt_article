{
 "cells": [
  {
   "cell_type": "code",
   "execution_count": 1,
   "id": "25b7330e-b9db-4310-adb1-15528d9d3776",
   "metadata": {},
   "outputs": [],
   "source": [
    "%matplotlib widget\n",
    "\n",
    "import numpy as np\n",
    "import matplotlib.pyplot as plt"
   ]
  },
  {
   "cell_type": "markdown",
   "id": "af7d4b7a-9f79-4c7d-bf05-aaa2543298b6",
   "metadata": {},
   "source": [
    "# 2. Zadanie programowanie kwadratowego bez ograniczeń"
   ]
  },
  {
   "cell_type": "markdown",
   "id": "b8269602-571b-4ec9-abcb-53a9d3e92ce7",
   "metadata": {},
   "source": [
    "Dany jest problem optymalizacji bez ograniczeń w następującej formie [1]\n",
    "$$\n",
    "\\min_{x_1, x_2} \\; 3x_1^2 + x_2^2 + 2x_1x_2 + x_1 + 6x_2 + 2 \n",
    "$$\n",
    "\n",
    "---\n",
    "Źródło [[1]](https://optimization.mccormick.northwestern.edu/index.php/Quadratic_programming) (25.08.2021)  \n",
    "\n",
    "---"
   ]
  },
  {
   "cell_type": "markdown",
   "id": "58c9326c-14bd-4a7b-a6bf-1679addd84ca",
   "metadata": {},
   "source": [
    "Rysunek funkcji celu w przestrzeni trójwymiarowej"
   ]
  },
  {
   "cell_type": "code",
   "execution_count": 3,
   "id": "f157b9d7-e3bb-4e8e-801c-6cbaa8625151",
   "metadata": {},
   "outputs": [
    {
     "data": {
      "application/vnd.jupyter.widget-view+json": {
       "model_id": "8e688e1bc2e3421e9c036b1c43ad89fb",
       "version_major": 2,
       "version_minor": 0
      },
      "text/plain": [
       "Canvas(toolbar=Toolbar(toolitems=[('Home', 'Reset original view', 'home', 'home'), ('Back', 'Back to previous …"
      ]
     },
     "metadata": {},
     "output_type": "display_data"
    }
   ],
   "source": [
    "def obj(x1, x2):\n",
    "    return 3 * x1 ** 2 + x2 ** 2 + 2 * x1 * x2 + x1 + 6 * x2 + 2\n",
    "\n",
    "\n",
    "x = np.linspace(-12, 12, 101)\n",
    "y = np.linspace(-20, 10, 101)\n",
    "\n",
    "X, Y = np.meshgrid(x, y)\n",
    "Z = obj(X, Y)\n",
    "\n",
    "fig = plt.figure(dpi=120)\n",
    "fig.set_tight_layout(True)\n",
    "ax1 = fig.add_subplot(1, 2, 1, projection=\"3d\")\n",
    "ax1.contour3D(X, Y, Z, 100)\n",
    "ax1.set_xlabel(\"x\")\n",
    "ax1.set_ylabel(\"y\")\n",
    "ax1.set_zlabel(\"z\")\n",
    "ax2 = fig.add_subplot(1, 2, 2)\n",
    "ax2.contour(X, Y, Z, 100)\n",
    "ax2.grid()\n",
    "ax2.set_xlabel(\"x\")\n",
    "ax2.set_ylabel(\"y\");"
   ]
  }
 ],
 "metadata": {
  "kernelspec": {
   "display_name": "Python 3 (ipykernel)",
   "language": "python",
   "name": "python3"
  },
  "language_info": {
   "codemirror_mode": {
    "name": "ipython",
    "version": 3
   },
   "file_extension": ".py",
   "mimetype": "text/x-python",
   "name": "python",
   "nbconvert_exporter": "python",
   "pygments_lexer": "ipython3",
   "version": "3.9.6"
  }
 },
 "nbformat": 4,
 "nbformat_minor": 5
}
