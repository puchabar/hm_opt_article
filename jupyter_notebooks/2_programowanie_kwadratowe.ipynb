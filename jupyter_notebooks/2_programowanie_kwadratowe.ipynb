{
 "cells": [
  {
   "cell_type": "code",
   "execution_count": 1,
   "id": "25b7330e-b9db-4310-adb1-15528d9d3776",
   "metadata": {},
   "outputs": [],
   "source": [
    "%matplotlib inline\n",
    "\n",
    "import time\n",
    "\n",
    "import matplotlib.pyplot as plt\n",
    "import numpy as np\n",
    "import scipy.optimize as opt\n",
    "\n",
    "np.set_printoptions(precision=3, suppress=True)"
   ]
  },
  {
   "cell_type": "markdown",
   "id": "af7d4b7a-9f79-4c7d-bf05-aaa2543298b6",
   "metadata": {},
   "source": [
    "# 2. Zadanie programowania kwadratowego bez ograniczeń"
   ]
  },
  {
   "cell_type": "markdown",
   "id": "b8269602-571b-4ec9-abcb-53a9d3e92ce7",
   "metadata": {},
   "source": [
    "Dany jest problem optymalizacji bez ograniczeń w następującej formie [1]  \n",
    "\n",
    "$$\n",
    "\\min_{x_1, x_2} \\; 3x_1^2 + x_2^2 + 2x_1x_2 + x_1 + 6x_2 + 2 \n",
    "$$\n",
    "\n",
    "---\n",
    "Źródło [[1]](https://optimization.mccormick.northwestern.edu/index.php/Quadratic_programming) (25.08.2021)  \n",
    "\n",
    "---"
   ]
  },
  {
   "cell_type": "markdown",
   "id": "58c9326c-14bd-4a7b-a6bf-1679addd84ca",
   "metadata": {},
   "source": [
    "Rysunek funkcji celu w przestrzeni trójwymiarowej"
   ]
  },
  {
   "cell_type": "code",
   "execution_count": 2,
   "id": "f157b9d7-e3bb-4e8e-801c-6cbaa8625151",
   "metadata": {},
   "outputs": [],
   "source": [
    "def cfun(x):\n",
    "    return 3 * x[0] ** 2 + x[1] ** 2 + 2 * x[0] * x[1] + x[0] + 6 * x[1] + 2\n",
    "\n",
    "\n",
    "bounds = opt.Bounds([-1e6, -1e6], [1e6, 1e6])\n",
    "\n",
    "opt_funval = []\n",
    "opt_x = []\n",
    "opt_times = []\n",
    "\n",
    "for i in range(1, 100):\n",
    "    start = time.time()\n",
    "    result = opt.differential_evolution(cfun, bounds, polish=False)\n",
    "    #     result = opt.minimize(cfun, x0=[1, 1], method='BFGS')\n",
    "    end = time.time()\n",
    "    opt_funval.append(result.fun)\n",
    "    opt_x.append(result.x)\n",
    "    opt_times.append(end - start)"
   ]
  },
  {
   "cell_type": "code",
   "execution_count": 3,
   "id": "a686132c-64c3-4a5a-9005-fc81852985b8",
   "metadata": {
    "tags": []
   },
   "outputs": [],
   "source": [
    "def cfun(x):\n",
    "    return 3 * x[0] ** 2 + x[1] ** 2 + 2 * x[0] * x[1] + x[0] + 6 * x[1] + 2\n",
    "\n",
    "\n",
    "bounds = opt.Bounds([-1e6, -1e6], [1e6, 1e6])\n",
    "\n",
    "opt_funval = []\n",
    "opt_x = []\n",
    "opt_times = []\n",
    "\n",
    "for i in range(1, 100):\n",
    "    start = time.time()\n",
    "    result = opt.differential_evolution(cfun, bounds, polish=False)\n",
    "    #     result = opt.minimize(cfun, x0=[1, 1], method='BFGS')\n",
    "    end = time.time()\n",
    "    opt_funval.append(result.fun)\n",
    "    opt_x.append(result.x)\n",
    "    opt_times.append(end - start)"
   ]
  },
  {
   "cell_type": "code",
   "execution_count": 4,
   "id": "8e9f0ab3-ecf1-465c-af7d-d6e0af993cf6",
   "metadata": {},
   "outputs": [
    {
     "name": "stdout",
     "output_type": "stream",
     "text": [
      "-10.123\n"
     ]
    }
   ],
   "source": [
    "print(f\"{np.mean(opt_funval):.3f}\")"
   ]
  },
  {
   "cell_type": "code",
   "execution_count": 5,
   "id": "41a8f7f3-54ac-4a81-a9c7-4b66281b2f12",
   "metadata": {
    "tags": []
   },
   "outputs": [
    {
     "name": "stdout",
     "output_type": "stream",
     "text": [
      "[ 1.253 -4.254]\n"
     ]
    }
   ],
   "source": [
    "print(f\"{np.mean(opt_x, 0)}\")"
   ]
  },
  {
   "cell_type": "code",
   "execution_count": 6,
   "id": "e8caeefd-c480-4530-b159-ce2c92b41ea3",
   "metadata": {},
   "outputs": [
    {
     "name": "stdout",
     "output_type": "stream",
     "text": [
      "0.065\n"
     ]
    }
   ],
   "source": [
    "print(f\"{np.mean(opt_times):.3f}\")"
   ]
  }
 ],
 "metadata": {
  "kernelspec": {
   "display_name": "Python 3 (ipykernel)",
   "language": "python",
   "name": "python3"
  },
  "language_info": {
   "codemirror_mode": {
    "name": "ipython",
    "version": 3
   },
   "file_extension": ".py",
   "mimetype": "text/x-python",
   "name": "python",
   "nbconvert_exporter": "python",
   "pygments_lexer": "ipython3",
   "version": "3.9.6"
  }
 },
 "nbformat": 4,
 "nbformat_minor": 5
}